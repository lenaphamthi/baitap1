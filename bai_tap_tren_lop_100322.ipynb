{
  "nbformat": 4,
  "nbformat_minor": 0,
  "metadata": {
    "colab": {
      "name": "bai_tap_tren_lop_100322.ipynb",
      "provenance": [],
      "authorship_tag": "ABX9TyMxgzTID7IAeAD5nVq5c+2h",
      "include_colab_link": true
    },
    "kernelspec": {
      "name": "python3",
      "display_name": "Python 3"
    },
    "language_info": {
      "name": "python"
    }
  },
  "cells": [
    {
      "cell_type": "markdown",
      "metadata": {
        "id": "view-in-github",
        "colab_type": "text"
      },
      "source": [
        "<a href=\"https://colab.research.google.com/github/lenaphamthi/baitap1/blob/master/bai_tap_tren_lop_100322.ipynb\" target=\"_parent\"><img src=\"https://colab.research.google.com/assets/colab-badge.svg\" alt=\"Open In Colab\"/></a>"
      ]
    },
    {
      "cell_type": "markdown",
      "source": [
        "Hãy cho biết thư viện nào tính toán ước lượng khoảng? \n"
      ],
      "metadata": {
        "id": "5463etl-CDWi"
      }
    },
    {
      "cell_type": "markdown",
      "source": [
        "- Đó là thư viện scipy.stats để tính toán khoảng tin cậy cho trung bình tổng thể "
      ],
      "metadata": {
        "id": "SGxA1UzhCyWi"
      }
    },
    {
      "cell_type": "markdown",
      "source": [
        "- Sử dụng hàm t.interval() khi đang làm việc với một mẫu nhỏ (n <30)"
      ],
      "metadata": {
        "id": "ZL5vxh66HbA3"
      }
    },
    {
      "cell_type": "markdown",
      "source": [
        "Ví dụ sau đây cho thấy cách tính khoảng tin cậy cho chiều cao trung bình của quần thể thực của một loài thực vật nhất định, sử dụng một mẫu gồm 15 cây:"
      ],
      "metadata": {
        "id": "PXQiSMeiE3DH"
      }
    },
    {
      "cell_type": "code",
      "execution_count": null,
      "metadata": {
        "id": "nnIWgoCFB7X0"
      },
      "outputs": [],
      "source": [
        "import numpy as np\n",
        "import scipy.stats as st\n",
        "#np.mean : Tính giá trị trung bình cộng\n",
        "#st.sem : Tính sai số chuẩn của giá trị trung bình.\n",
        "#Khoảng tin cậy 95% cho chiều cao trung bình của tổng thể là (16,758, 24,042)."
      ]
    },
    {
      "cell_type": "code",
      "source": [
        "#xác định dữ liệu mẫu \n",
        "data = [12, 12, 13, 13, 15, 16, 17, 22, 23, 25, 26, 27, 28, 28, 29]"
      ],
      "metadata": {
        "id": "18qB4I93KCCT"
      },
      "execution_count": null,
      "outputs": []
    },
    {
      "cell_type": "code",
      "source": [
        "#tạo khoảng tin cậy 95% cho trọng lượng trung bình của tổng thể\n",
        "st.t.interval(alpha=0.95, df=len(data)-1, loc=np.mean(data), scale=st.sem(data)) "
      ],
      "metadata": {
        "colab": {
          "base_uri": "https://localhost:8080/"
        },
        "id": "_6yZl4SgKEwQ",
        "outputId": "1839aaad-9f0a-4840-e0e3-d4da0352ca07"
      },
      "execution_count": null,
      "outputs": [
        {
          "output_type": "execute_result",
          "data": {
            "text/plain": [
              "(16.75776979778498, 24.042230202215016)"
            ]
          },
          "metadata": {},
          "execution_count": 7
        }
      ]
    },
    {
      "cell_type": "markdown",
      "source": [
        "Bạn sẽ nhận thấy rằng mức độ tin cậy càng lớn thì khoảng tin cậy càng rộng."
      ],
      "metadata": {
        "id": "1IZMWiT3DmNq"
      }
    },
    {
      "cell_type": "code",
      "source": [
        "#tạo khoảng tin cậy 99% cho trọng lượng trung bình của tổng thể\n",
        "st.t.interval(alpha=0.99, df=len(data)-1, loc=np.mean(data), scale=st.sem(data)) "
      ],
      "metadata": {
        "colab": {
          "base_uri": "https://localhost:8080/"
        },
        "id": "LRLiDzqLGGbA",
        "outputId": "2e0e11ee-656e-4fb0-a858-c4980c11a732"
      },
      "execution_count": null,
      "outputs": [
        {
          "output_type": "execute_result",
          "data": {
            "text/plain": [
              "(15.3447902793728, 25.455209720627195)"
            ]
          },
          "metadata": {},
          "execution_count": 3
        }
      ]
    },
    {
      "cell_type": "markdown",
      "source": [
        "- Sử dụng hàm t.norm.interval() khi chúng ta đang làm việc với các mẫu lớn hơn (n≥30) "
      ],
      "metadata": {
        "id": "3bVvT-XdG6iQ"
      }
    },
    {
      "cell_type": "code",
      "source": [
        "import numpy as np\n",
        "import scipy.stats as st"
      ],
      "metadata": {
        "id": "qEz0MVgxG_vD"
      },
      "execution_count": null,
      "outputs": []
    },
    {
      "cell_type": "code",
      "source": [
        "#xác định dữ liệu mẫu  \n",
        "data = [12, 12, 13, 13, 15, 16, 17, 22, 23, 25, 26, 27, 28, 28, 29,33,22,11,45,23,12,34,65,23,64,86,34,12,35,98]"
      ],
      "metadata": {
        "id": "l4pOeiqSKKjx"
      },
      "execution_count": null,
      "outputs": []
    },
    {
      "cell_type": "code",
      "source": [
        "#tạo khoảng tin cậy 95% cho trọng lượng trung bình của tổng thể\n",
        "st.norm.interval(alpha=0.95, loc=np.mean(data), scale=st.sem(data))\n"
      ],
      "metadata": {
        "colab": {
          "base_uri": "https://localhost:8080/"
        },
        "id": "E7-OWzNcKM4C",
        "outputId": "1f5152de-433f-45bc-d7c6-bfdd72c80eb4"
      },
      "execution_count": null,
      "outputs": [
        {
          "output_type": "execute_result",
          "data": {
            "text/plain": [
              "(22.353431282811485, 37.84656871718852)"
            ]
          },
          "metadata": {},
          "execution_count": 18
        }
      ]
    },
    {
      "cell_type": "markdown",
      "source": [
        "Và tương tự như phân phối, mức độ tin cậy lớn hơn dẫn đến khoảng tin cậy rộng hơn."
      ],
      "metadata": {
        "id": "DjfKwMUKIT_C"
      }
    },
    {
      "cell_type": "code",
      "source": [
        "#tạo khoảng tin cậy 99% cho trọng lượng trung bình của tổng thể\n",
        "st.t.interval(alpha=0.99, df=len(data)-1, loc=np.mean(data), scale=st.sem(data)) \n"
      ],
      "metadata": {
        "colab": {
          "base_uri": "https://localhost:8080/"
        },
        "id": "rjFk28yhGGgi",
        "outputId": "a634a1dd-44c7-4a15-b9cd-db86cb5179bf"
      },
      "execution_count": null,
      "outputs": [
        {
          "output_type": "execute_result",
          "data": {
            "text/plain": [
              "(19.205650418937253, 40.99434958106275)"
            ]
          },
          "metadata": {},
          "execution_count": 19
        }
      ]
    }
  ]
}
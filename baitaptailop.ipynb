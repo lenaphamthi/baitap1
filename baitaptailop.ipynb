{
  "nbformat": 4,
  "nbformat_minor": 0,
  "metadata": {
    "colab": {
      "name": "baitaptailop.ipynb",
      "provenance": [],
      "authorship_tag": "ABX9TyNDplPcRuOnnuMSMUP0gRi0",
      "include_colab_link": true
    },
    "kernelspec": {
      "name": "python3",
      "display_name": "Python 3"
    },
    "language_info": {
      "name": "python"
    }
  },
  "cells": [
    {
      "cell_type": "markdown",
      "metadata": {
        "id": "view-in-github",
        "colab_type": "text"
      },
      "source": [
        "<a href=\"https://colab.research.google.com/github/lenaphamthi/baitap1/blob/master/baitaptailop.ipynb\" target=\"_parent\"><img src=\"https://colab.research.google.com/assets/colab-badge.svg\" alt=\"Open In Colab\"/></a>"
      ]
    },
    {
      "cell_type": "markdown",
      "metadata": {
        "id": "Wx_PX1p_-UV3"
      },
      "source": [
        "bai 1\n",
        "\n"
      ]
    },
    {
      "cell_type": "code",
      "metadata": {
        "colab": {
          "base_uri": "https://localhost:8080/"
        },
        "id": "Wiqs18ERDsLU",
        "outputId": "2a696f85-641f-480d-c67d-7e26fd8e0d20"
      },
      "source": [
        "for i in range(1,11):\n",
        "  print(i)"
      ],
      "execution_count": 24,
      "outputs": [
        {
          "output_type": "stream",
          "name": "stdout",
          "text": [
            "1\n",
            "2\n",
            "3\n",
            "4\n",
            "5\n",
            "6\n",
            "7\n",
            "8\n",
            "9\n",
            "10\n"
          ]
        }
      ]
    },
    {
      "cell_type": "markdown",
      "metadata": {
        "id": "7mPDom3W-Ttw"
      },
      "source": [
        "bai 2"
      ]
    },
    {
      "cell_type": "code",
      "metadata": {
        "colab": {
          "base_uri": "https://localhost:8080/"
        },
        "id": "EYIHD7P9-XTw",
        "outputId": "1fec7c06-7657-41f0-9a83-30cca2fd5076"
      },
      "source": [
        "x = 5\n",
        "for i in range(0, x + 1):\n",
        "    for j in range(x - i, 0, -1):\n",
        "        print(j, end=' ')\n",
        "    print()"
      ],
      "execution_count": 27,
      "outputs": [
        {
          "output_type": "stream",
          "name": "stdout",
          "text": [
            "5 4 3 2 1 \n",
            "4 3 2 1 \n",
            "3 2 1 \n",
            "2 1 \n",
            "1 \n",
            "\n"
          ]
        }
      ]
    },
    {
      "cell_type": "markdown",
      "metadata": {
        "id": "Flc_5I-S_6Qz"
      },
      "source": [
        "bai 3"
      ]
    },
    {
      "cell_type": "code",
      "metadata": {
        "colab": {
          "base_uri": "https://localhost:8080/"
        },
        "id": "yTbx9urN_64C",
        "outputId": "6f6d5673-7632-4778-f2e7-6ddf1d5f2f2f"
      },
      "source": [
        "s =0\n",
        "n = int(input(\"nhap mot so: \"))\n",
        "for i in range(1, n + 1, 1):\n",
        "    s = s+i\n",
        "print(\"tong: \", s)"
      ],
      "execution_count": 29,
      "outputs": [
        {
          "output_type": "stream",
          "name": "stdout",
          "text": [
            "nhap mot so: 4\n",
            "tong:  10\n"
          ]
        }
      ]
    },
    {
      "cell_type": "markdown",
      "metadata": {
        "id": "SZ4wWs0aBoc9"
      },
      "source": [
        "bai 4"
      ]
    },
    {
      "cell_type": "code",
      "metadata": {
        "colab": {
          "base_uri": "https://localhost:8080/"
        },
        "id": "yV7jn-f4BpmC",
        "outputId": "a29e5731-6f25-4b7f-d22c-b11f8664a6cd"
      },
      "source": [
        "n = int(input(\"bang cuu chuong: \"))\n",
        "for i in range(1, 11):\n",
        "    x = n * i\n",
        "    print(x)"
      ],
      "execution_count": 19,
      "outputs": [
        {
          "output_type": "stream",
          "name": "stdout",
          "text": [
            "bang cuu chuong: 5\n",
            "5\n",
            "10\n",
            "15\n",
            "20\n",
            "25\n",
            "30\n",
            "35\n",
            "40\n",
            "45\n",
            "50\n"
          ]
        }
      ]
    },
    {
      "cell_type": "markdown",
      "metadata": {
        "id": "fp11gfJpHMus"
      },
      "source": [
        "bai 5"
      ]
    },
    {
      "cell_type": "code",
      "metadata": {
        "colab": {
          "base_uri": "https://localhost:8080/"
        },
        "id": "0Fm3SWi-HN_k",
        "outputId": "45bf790d-7ccb-41e7-b3a0-a1e50aa10198"
      },
      "source": [
        "for i in range(1,25):\n",
        "  print(i)"
      ],
      "execution_count": 34,
      "outputs": [
        {
          "output_type": "stream",
          "name": "stdout",
          "text": [
            "1\n",
            "2\n",
            "3\n",
            "4\n",
            "5\n",
            "6\n",
            "7\n",
            "8\n",
            "9\n",
            "10\n",
            "11\n",
            "12\n",
            "13\n",
            "14\n",
            "15\n",
            "16\n",
            "17\n",
            "18\n",
            "19\n",
            "20\n",
            "21\n",
            "22\n",
            "23\n",
            "24\n"
          ]
        }
      ]
    },
    {
      "cell_type": "markdown",
      "metadata": {
        "id": "JxS8AABKH_cO"
      },
      "source": [
        "bai 6"
      ]
    },
    {
      "cell_type": "code",
      "metadata": {
        "colab": {
          "base_uri": "https://localhost:8080/"
        },
        "id": "r_MQ_7Y5IAld",
        "outputId": "63607f78-65de-49fc-9d9f-9818f6a5d3ce"
      },
      "source": [
        "x = int(input(\"nhap so : \"))\n",
        "print (\"tong so chu so: \",len(str(x)))"
      ],
      "execution_count": 37,
      "outputs": [
        {
          "output_type": "stream",
          "name": "stdout",
          "text": [
            "nhap so : 34454\n",
            "tong so chu so:  5\n"
          ]
        }
      ]
    },
    {
      "cell_type": "markdown",
      "metadata": {
        "id": "iIhkoTm7LJJH"
      },
      "source": [
        "bai 7"
      ]
    },
    {
      "cell_type": "code",
      "metadata": {
        "colab": {
          "base_uri": "https://localhost:8080/"
        },
        "id": "pnXwX7EuLJ3-",
        "outputId": "eb9939a5-601e-42c5-bb7e-2d0e2fcc7366"
      },
      "source": [
        "for i in range(10,1,-1):\n",
        "  print(i)"
      ],
      "execution_count": 43,
      "outputs": [
        {
          "output_type": "stream",
          "name": "stdout",
          "text": [
            "10\n",
            "9\n",
            "8\n",
            "7\n",
            "6\n",
            "5\n",
            "4\n",
            "3\n",
            "2\n"
          ]
        }
      ]
    },
    {
      "cell_type": "markdown",
      "metadata": {
        "id": "mHlDc0k6N3-B"
      },
      "source": [
        "bai 8"
      ]
    },
    {
      "cell_type": "code",
      "metadata": {
        "colab": {
          "base_uri": "https://localhost:8080/"
        },
        "id": "_v4IpUfcN-Ff",
        "outputId": "e8e3235b-c0ed-4d1f-a561-5c6ed79a3e31"
      },
      "source": [
        "for i in range(-10,0):\n",
        "  print(i)"
      ],
      "execution_count": 47,
      "outputs": [
        {
          "output_type": "stream",
          "name": "stdout",
          "text": [
            "-10\n",
            "-9\n",
            "-8\n",
            "-7\n",
            "-6\n",
            "-5\n",
            "-4\n",
            "-3\n",
            "-2\n",
            "-1\n"
          ]
        }
      ]
    },
    {
      "cell_type": "markdown",
      "metadata": {
        "id": "vNhOB3SgOVCr"
      },
      "source": [
        "bai 9"
      ]
    },
    {
      "cell_type": "code",
      "metadata": {
        "colab": {
          "base_uri": "https://localhost:8080/"
        },
        "id": "SIrwbtZgOVzH",
        "outputId": "85ee5257-8b3a-496c-881a-ab78c3279dc4"
      },
      "source": [
        "for i in range(1,11):\n",
        "  print(i)\n",
        "else:\n",
        "  print(\"Done!\")"
      ],
      "execution_count": 61,
      "outputs": [
        {
          "output_type": "stream",
          "name": "stdout",
          "text": [
            "1\n",
            "2\n",
            "3\n",
            "4\n",
            "5\n",
            "6\n",
            "7\n",
            "8\n",
            "9\n",
            "10\n",
            "Done!\n"
          ]
        }
      ]
    },
    {
      "cell_type": "markdown",
      "metadata": {
        "id": "xLfZPTcCRy2R"
      },
      "source": [
        "bai 10"
      ]
    },
    {
      "cell_type": "markdown",
      "metadata": {
        "id": "wQ9D0tzIRzmT"
      },
      "source": [
        "bai 11"
      ]
    },
    {
      "cell_type": "markdown",
      "metadata": {
        "id": "F2EeW_o_R0MJ"
      },
      "source": [
        "bai 12"
      ]
    },
    {
      "cell_type": "code",
      "metadata": {
        "colab": {
          "base_uri": "https://localhost:8080/"
        },
        "id": "O-mGFr6OSOW6",
        "outputId": "6fdae7f8-6713-4f74-cbd5-1a62ed7d6971"
      },
      "source": [
        "x = int(input(\"nhap mot so: \"))\n",
        "y= 1\n",
        "if x < 0:\n",
        "    print(\"Giai thừa không tồn tại\")\n",
        "elif x == 0:\n",
        "    print(\"Giai thừa của 0 là 1\")\n",
        "else:\n",
        "    for i in range(1, x + 1):\n",
        "        y = y * i\n",
        "    print(\"Giai thua cua\", x, \"la\", y)"
      ],
      "execution_count": 60,
      "outputs": [
        {
          "output_type": "stream",
          "name": "stdout",
          "text": [
            "nhap mot so: 3\n",
            "Giai thua cua 3 la 6\n"
          ]
        }
      ]
    },
    {
      "cell_type": "markdown",
      "metadata": {
        "id": "_K6ZD2A4R0uY"
      },
      "source": [
        "bai 13"
      ]
    },
    {
      "cell_type": "markdown",
      "metadata": {
        "id": "uhONuDWqR1Ra"
      },
      "source": [
        "bai 14"
      ]
    },
    {
      "cell_type": "markdown",
      "metadata": {
        "id": "NNfNYQaMHJ-8"
      },
      "source": [
        "bai 15"
      ]
    },
    {
      "cell_type": "code",
      "metadata": {
        "colab": {
          "base_uri": "https://localhost:8080/"
        },
        "id": "aky_VHJmGqCM",
        "outputId": "af921653-e66e-4ded-dc5b-c984705d60b6"
      },
      "source": [
        "x = int(input(\"nhap mot so: \"))\n",
        "for i in range(1, x + 1):\n",
        "    print(\" so:\", i, \" khoi lap phuong la\", (i * i * i))"
      ],
      "execution_count": 30,
      "outputs": [
        {
          "output_type": "stream",
          "name": "stdout",
          "text": [
            "nhap mot so: 6\n",
            " so: 1  khoi lap phuong la 1\n",
            " so: 2  khoi lap phuong la 8\n",
            " so: 3  khoi lap phuong la 27\n",
            " so: 4  khoi lap phuong la 64\n",
            " so: 5  khoi lap phuong la 125\n",
            " so: 6  khoi lap phuong la 216\n"
          ]
        }
      ]
    }
  ]
}
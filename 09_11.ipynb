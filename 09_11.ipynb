{
  "nbformat": 4,
  "nbformat_minor": 0,
  "metadata": {
    "colab": {
      "name": "09/11.ipynb",
      "provenance": [],
      "authorship_tag": "ABX9TyOdSVuYKPTiAuH8dHUiBlg6",
      "include_colab_link": true
    },
    "kernelspec": {
      "name": "python3",
      "display_name": "Python 3"
    },
    "language_info": {
      "name": "python"
    }
  },
  "cells": [
    {
      "cell_type": "markdown",
      "metadata": {
        "id": "view-in-github",
        "colab_type": "text"
      },
      "source": [
        "<a href=\"https://colab.research.google.com/github/lenaphamthi/baitap1/blob/master/09_11.ipynb\" target=\"_parent\"><img src=\"https://colab.research.google.com/assets/colab-badge.svg\" alt=\"Open In Colab\"/></a>"
      ]
    },
    {
      "cell_type": "code",
      "metadata": {
        "colab": {
          "base_uri": "https://localhost:8080/"
        },
        "id": "Ret9TPm_cXuu",
        "outputId": "97712d76-9eb0-4283-f3f1-65bfd11ff804"
      },
      "source": [
        "print(\"Tuân thủ nguyên tắc 5K để phòng chống COVID\")"
      ],
      "execution_count": 1,
      "outputs": [
        {
          "output_type": "stream",
          "name": "stdout",
          "text": [
            "Tuân thủ nguyên tắc 5K để phòng chống COVID\n"
          ]
        }
      ]
    }
  ]
}
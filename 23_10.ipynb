{
  "nbformat": 4,
  "nbformat_minor": 0,
  "metadata": {
    "colab": {
      "name": "23/10.ipynb",
      "provenance": [],
      "authorship_tag": "ABX9TyM2uUk8IxhWX/9hW7imf4JO",
      "include_colab_link": true
    },
    "kernelspec": {
      "name": "python3",
      "display_name": "Python 3"
    },
    "language_info": {
      "name": "python"
    }
  },
  "cells": [
    {
      "cell_type": "markdown",
      "metadata": {
        "id": "view-in-github",
        "colab_type": "text"
      },
      "source": [
        "<a href=\"https://colab.research.google.com/github/lenaphamthi/baitap1/blob/master/23_10.ipynb\" target=\"_parent\"><img src=\"https://colab.research.google.com/assets/colab-badge.svg\" alt=\"Open In Colab\"/></a>"
      ]
    },
    {
      "cell_type": "code",
      "metadata": {
        "colab": {
          "base_uri": "https://localhost:8080/"
        },
        "id": "DuBDumkTjgFX",
        "outputId": "ecc8a1fe-d810-4717-acbc-3a836b8628a1"
      },
      "source": [
        "def thongbao():\n",
        "  print (\"Lập trình Java 2021\")\n",
        "def main():\n",
        "  thongbao()\n",
        "if __name__ == \"__main__\":\n",
        "  main()"
      ],
      "execution_count": 69,
      "outputs": [
        {
          "output_type": "stream",
          "name": "stdout",
          "text": [
            "Lập trình Java 2021\n"
          ]
        }
      ]
    },
    {
      "cell_type": "markdown",
      "metadata": {
        "id": "Bz9r-1Aj3POv"
      },
      "source": [
        "bai 2"
      ]
    },
    {
      "cell_type": "code",
      "metadata": {
        "colab": {
          "base_uri": "https://localhost:8080/"
        },
        "id": "MiriWikU3QPf",
        "outputId": "44600449-516a-4168-92ed-e98059674dc3"
      },
      "source": [
        "def chuoikitu(thongdiep):\n",
        "  print(thongdiep)\n",
        "chuoikitu(\"hello world\")"
      ],
      "execution_count": 76,
      "outputs": [
        {
          "output_type": "stream",
          "name": "stdout",
          "text": [
            "hello world\n"
          ]
        }
      ]
    },
    {
      "cell_type": "markdown",
      "metadata": {
        "id": "UlP8xx9tmQGp"
      },
      "source": [
        "bai 3"
      ]
    },
    {
      "cell_type": "code",
      "metadata": {
        "colab": {
          "base_uri": "https://localhost:8080/"
        },
        "id": "iniMiAjFjeUe",
        "outputId": "2deefe47-f3c1-4eba-ee51-e73e33df6a50"
      },
      "source": [
        "n = int(input(\"hay nhap 1 so nguyen duong : \"))\n",
        "while n<=0:\n",
        "  print(\"nhap sai, moi nhap so nguyen duong\")\n",
        "  n = int(input(\"hay nhap 1 so nguyen duong: \"))\n",
        "thongdiep = input(\"hay nhap 1 thong diep: \")\n",
        "def chuoikitu(thongdiep,x):\n",
        "  for i in range(0,x):\n",
        "    print(thongdiep)\n",
        "chuoikitu(thongdiep,x)"
      ],
      "execution_count": 78,
      "outputs": [
        {
          "output_type": "stream",
          "name": "stdout",
          "text": [
            "hay nhap 1 so nguyen duong : 4\n",
            "hay nhap 1 thong diep: hello\n",
            "hello\n",
            "hello\n",
            "hello\n",
            "hello\n"
          ]
        }
      ]
    },
    {
      "cell_type": "markdown",
      "metadata": {
        "id": "bC0m3Ns4nrfA"
      },
      "source": [
        "bai 4"
      ]
    },
    {
      "cell_type": "code",
      "metadata": {
        "colab": {
          "base_uri": "https://localhost:8080/"
        },
        "id": "qz2sZ1TSnsU5",
        "outputId": "53ae4304-7a41-4819-e263-a94291277242"
      },
      "source": [
        "def giaiPhuongTrinhBac1(a, b):\n",
        "  if (a == 0) and (b == 0):\n",
        "    print(\"Phương trình vô số nghiệm\")\n",
        "    return\n",
        "  if (a == 0) and (b != 0):\n",
        "    print(\"Phương trình vô nghiệm\")\n",
        "    return\n",
        "  if a != 0:\n",
        "    return -(b/a)\n",
        "def main():\n",
        "  a = float(input(\"mời bạn nhập a : \"))\n",
        "  b = float(input(\"mời bạn nhập b : \"))\n",
        "  print(giaiPhuongTrinhBac1(a,b))\n",
        "if __name__ == \"__main__\":\n",
        "  main()"
      ],
      "execution_count": 34,
      "outputs": [
        {
          "output_type": "stream",
          "name": "stdout",
          "text": [
            "mời bạn nhập a : 0\n",
            "mời bạn nhập b : 2\n",
            "Phương trình vô nghiệm\n",
            "None\n"
          ]
        }
      ]
    },
    {
      "cell_type": "code",
      "metadata": {
        "id": "xa_rbPepse-h"
      },
      "source": [
        ""
      ],
      "execution_count": null,
      "outputs": []
    },
    {
      "cell_type": "markdown",
      "metadata": {
        "id": "ErMOIajprOHB"
      },
      "source": [
        "bai 5"
      ]
    },
    {
      "cell_type": "code",
      "metadata": {
        "colab": {
          "base_uri": "https://localhost:8080/"
        },
        "id": "sPD9DiWrsgXR",
        "outputId": "ac4a87ef-13ad-4337-9950-95069e9ab120"
      },
      "source": [
        " import math\n",
        " def giaiPhuongTrinhBac2(a,b,c):\n",
        "  if (a == 0):\n",
        "        if (b == 0):\n",
        "            print (\"Phương trình vô nghiệm!\")\n",
        "        else:\n",
        "            print (\"Phương trình có một nghiệm: x = \", + (-c / b))\n",
        "        return\n",
        " # tính delta\n",
        "  delta = b * b - 4 * a * c\n",
        "# tính nghiệm\n",
        "  if (delta > 0):\n",
        "       x1 = (float)((-b + math.sqrt(delta)) / (2 * a))\n",
        "       x2 = (float)((-b - math.sqrt(delta)) / (2 * a))\n",
        "       print (\"Phương trình có 2 nghiệm là: x1 = \", x1, \" và x2 = \", x2)\n",
        "       return\n",
        "  elif (delta == 0):\n",
        "        x1 = (-b/(2 * a))\n",
        "        print(\"Phương trình có nghiệm kép: x1 = x2 = \", x1)\n",
        "        return\n",
        "  else:\n",
        "        print(\"Phương trình vô nghiệm!\")\n",
        "        return\n",
        "def main():\n",
        "  a = float(input(\"mời bạn nhập a : \"))\n",
        "  b = float(input(\"mời bạn nhập b : \"))\n",
        "  c = float(input(\"mời bạn nhập c : \"))\n",
        "  print(giaiPhuongTrinhBac2(a,b,c))\n",
        "if __name__ == \"__main__\":\n",
        "  main()\n"
      ],
      "execution_count": 80,
      "outputs": [
        {
          "output_type": "stream",
          "name": "stdout",
          "text": [
            "mời bạn nhập a : 3\n",
            "mời bạn nhập b : 5\n",
            "mời bạn nhập c : 2\n",
            "Phương trình có 2 nghiệm là: x1 =  -0.6666666666666666  và x2 =  -1.0\n",
            "None\n"
          ]
        }
      ]
    },
    {
      "cell_type": "markdown",
      "metadata": {
        "id": "8vatyCTdt5R6"
      },
      "source": [
        "bai 6"
      ]
    },
    {
      "cell_type": "code",
      "metadata": {
        "colab": {
          "base_uri": "https://localhost:8080/"
        },
        "id": "xSf4hfrWwbql",
        "outputId": "4eee7754-0c20-4537-958f-a2d13c595ebc"
      },
      "source": [
        "def giaiPhuongTrinhBac1(a, b):\n",
        "  if (a == 0) and (b == 0):\n",
        "    print(\"Phương trình vô số nghiệm\")\n",
        "    return\n",
        "  if (a == 0) and (b != 0):\n",
        "    print(\"Phương trình vô nghiệm\")\n",
        "    return\n",
        "  if a != 0:\n",
        "    return -(b/a)\n",
        "import math\n",
        "def giaiPhuongTrinhBac2(a,b,c):\n",
        "  if (a == 0):\n",
        "        if (b == 0):\n",
        "            print (\"Phương trình vô nghiệm!\")\n",
        "        else:\n",
        "            print (\"Phương trình có một nghiệm: x = \", + (-c / b))\n",
        "        return\n",
        "#tính delta\n",
        "  delta = b * b - 4 * a * c\n",
        "#tính nghiệm\n",
        "  if (delta > 0):\n",
        "       x1 = (float)((-b + math.sqrt(delta)) / (2 * a))\n",
        "       x2 = (float)((-b - math.sqrt(delta)) / (2 * a))\n",
        "       print (\"Phương trình có 2 nghiệm là: x1 = \", x1, \" và x2 = \", x2)\n",
        "  elif (delta == 0):\n",
        "        x1 = (-b / (2 * a));\n",
        "        print(\"Phương trình có nghiệm kép: x1 = x2 = \", x1)\n",
        "  else:\n",
        "        print(\"Phương trình vô nghiệm!\")\n",
        "def main():\n",
        "  luachon = int(input(\"ban muon giai PT bac may? : \"))\n",
        "  if (luachon == 1):\n",
        "    a = float(input(\"Nhập vào số a: \"))\n",
        "    b = float(input(\"Nhập vào số b: \"))\n",
        "    print(giaiPhuongTrinhBac1(a,b))\n",
        "  if (luachon == 2):\n",
        "    a = float(input(\"Nhập vào số a: \"))\n",
        "    b = float(input(\"Nhập vào số b: \"))\n",
        "    c = float(input(\"Nhập vào số c: \"))\n",
        "    print(giaiPhuongTrinhBac2(a,b,c))\n",
        "if __name__ == \"__main__\":\n",
        "  main()\n"
      ],
      "execution_count": 50,
      "outputs": [
        {
          "output_type": "stream",
          "name": "stdout",
          "text": [
            "ban muon giai PT bac may? : 2\n",
            "Nhập vào số a: 3\n",
            "Nhập vào số b: 4\n",
            "Nhập vào số c: 2\n",
            "Phương trình vô nghiệm!\n",
            "None\n"
          ]
        }
      ]
    },
    {
      "cell_type": "markdown",
      "metadata": {
        "id": "Jh1zDTR9zMsF"
      },
      "source": [
        "bai 77"
      ]
    },
    {
      "cell_type": "code",
      "metadata": {
        "colab": {
          "base_uri": "https://localhost:8080/"
        },
        "id": "A4jD2iAzzNek",
        "outputId": "33aaf2ca-db38-4bd4-c30f-b5fdb60d13e3"
      },
      "source": [
        "def giaiPhuongTrinhBac1(a, b):\n",
        "  if (a == 0) and (b == 0):\n",
        "    print(\"Phương trình vô số nghiệm\")\n",
        "    return\n",
        "  if (a == 0) and (b != 0):\n",
        "    print(\"Phương trình vô nghiệm\")\n",
        "    return\n",
        "  if a != 0:\n",
        "    return -(b/a)\n",
        "import math\n",
        "def giaiPhuongTrinhBac2(a,b,c):\n",
        "  if (a == 0):\n",
        "        if (b == 0):\n",
        "            print (\"Phương trình vô nghiệm!\")\n",
        "        else:\n",
        "            print (\"Phương trình có một nghiệm: x = \", + (-c / b))\n",
        "        return\n",
        "#tính delta\n",
        "  delta = b * b - 4 * a * c\n",
        "#tính nghiệm\n",
        "  if (delta > 0):\n",
        "       x1 = (float)((-b + math.sqrt(delta)) / (2 * a))\n",
        "       x2 = (float)((-b - math.sqrt(delta)) / (2 * a))\n",
        "       print (\"Phương trình có 2 nghiệm là: x1 = \", x1, \" và x2 = \", x2)\n",
        "  elif (delta == 0):\n",
        "        x1 = (-b / (2 * a));\n",
        "        print(\"Phương trình có nghiệm kép: x1 = x2 = \", x1)\n",
        "  else:\n",
        "        print(\"Phương trình vô nghiệm!\")\n",
        "def main():\n",
        "  flag = True\n",
        "  while flag:\n",
        "    luachon = int(input(\"ban muon giai PT bac may?(PT bac 1 hay PT bac 2): \"))\n",
        "    if (luachon == 1):\n",
        "      a = float(input(\"Nhập vào số a: \"))\n",
        "      b = float(input(\"Nhập vào số b: \"))\n",
        "      print(giaiPhuongTrinhBac1(a,b))\n",
        "    if (luachon == 2):\n",
        "      a = float(input(\"Nhập vào số a: \"))\n",
        "      b = float(input(\"Nhập vào số b: \"))\n",
        "      c = float(input(\"Nhập vào số c: \"))\n",
        "      print(giaiPhuongTrinhBac2(a,b,c))\n",
        "    tieptuc = input(\"ban co muon thuc hien tiep chuong trinh?(Yes/No)\")\n",
        "    if tieptuc == \"No\" or tieptuc == \"no\":\n",
        "      print(\"goodbye!!!\")\n",
        "      flag = False\n",
        "if __name__ == \"__main__\":\n",
        "  main()"
      ],
      "execution_count": 68,
      "outputs": [
        {
          "output_type": "stream",
          "name": "stdout",
          "text": [
            "ban muon giai PT bac may?(PT bac 1 hay PT bac 2): 1\n",
            "Nhập vào số a: 2\n",
            "Nhập vào số b: 3\n",
            "-1.5\n",
            "ban co muon thuc hien tiep chuong trinh?(Yes/No)yes\n",
            "ban muon giai PT bac may?(PT bac 1 hay PT bac 2): 2\n",
            "Nhập vào số a: 2\n",
            "Nhập vào số b: 3\n",
            "Nhập vào số c: 4\n",
            "Phương trình vô nghiệm!\n",
            "None\n",
            "ban co muon thuc hien tiep chuong trinh?(Yes/No)no\n",
            "goodbye!!!\n"
          ]
        }
      ]
    }
  ]
}